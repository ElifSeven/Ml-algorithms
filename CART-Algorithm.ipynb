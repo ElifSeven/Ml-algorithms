{
 "cells": [
  {
   "cell_type": "code",
   "execution_count": 1,
   "id": "053b92de",
   "metadata": {},
   "outputs": [],
   "source": [
    "import numpy as np\n",
    "import pandas as pd \n",
    "import statsmodels.api as sm\n",
    "import statsmodels.formula.api as smf\n",
    "import seaborn as sns\n",
    "from sklearn.preprocessing import scale \n",
    "from sklearn.model_selection import train_test_split, GridSearchCV, cross_val_score\n",
    "from sklearn.metrics import confusion_matrix, accuracy_score, classification_report\n",
    "from sklearn.metrics import roc_auc_score,roc_curve\n",
    "import statsmodels.formula.api as smf\n",
    "import matplotlib.pyplot as plt\n",
    "from sklearn.neighbors import KNeighborsClassifier\n",
    "from sklearn.discriminant_analysis import LinearDiscriminantAnalysis\n",
    "from sklearn.linear_model import LogisticRegression\n",
    "from sklearn.svm import SVC\n",
    "from sklearn.naive_bayes import GaussianNB\n",
    "from sklearn import tree\n",
    "from sklearn.ensemble import RandomForestClassifier\n",
    "from sklearn.ensemble import GradientBoostingClassifier\n",
    "from xgboost import XGBClassifier\n",
    "from lightgbm import LGBMClassifier\n",
    "from catboost import CatBoostClassifier\n",
    "\n",
    "from warnings import filterwarnings\n",
    "filterwarnings('ignore')"
   ]
  },
  {
   "cell_type": "markdown",
   "id": "daa8103e",
   "metadata": {},
   "source": [
    "Basit hali ile modeli kurduk, max_depth derinliğini 2 vererek ve 2 değişkenli model kurarak."
   ]
  },
  {
   "cell_type": "code",
   "execution_count": 11,
   "id": "4eeb6743",
   "metadata": {},
   "outputs": [],
   "source": [
    "df = diabetes.copy()\n",
    "df = df.dropna()\n",
    "y = df[\"Outcome\"]\n",
    "#X = df.drop(['Outcome'], axis=1)\n",
    "X = df[\"Pregnancies\"]\n",
    "#X = df[\"Pregnancies\"]\n",
    "X = pd.DataFrame(X)\n",
    "X_train, X_test, y_train, y_test = train_test_split(X, y, \n",
    "                                                    test_size=0.30, \n",
    "                                                    random_state=42)"
   ]
  },
  {
   "cell_type": "code",
   "execution_count": 12,
   "id": "1f709a68",
   "metadata": {},
   "outputs": [],
   "source": [
    "from sklearn.tree import DecisionTreeClassifier"
   ]
  },
  {
   "cell_type": "code",
   "execution_count": 13,
   "id": "d414f8e0",
   "metadata": {},
   "outputs": [],
   "source": [
    "cart = DecisionTreeClassifier(max_depth=2)\n",
    "cart_model = cart.fit(X,y)"
   ]
  },
  {
   "cell_type": "code",
   "execution_count": 14,
   "id": "384458c7",
   "metadata": {},
   "outputs": [
    {
     "data": {
      "text/html": [
       "<style>#sk-container-id-2 {color: black;background-color: white;}#sk-container-id-2 pre{padding: 0;}#sk-container-id-2 div.sk-toggleable {background-color: white;}#sk-container-id-2 label.sk-toggleable__label {cursor: pointer;display: block;width: 100%;margin-bottom: 0;padding: 0.3em;box-sizing: border-box;text-align: center;}#sk-container-id-2 label.sk-toggleable__label-arrow:before {content: \"▸\";float: left;margin-right: 0.25em;color: #696969;}#sk-container-id-2 label.sk-toggleable__label-arrow:hover:before {color: black;}#sk-container-id-2 div.sk-estimator:hover label.sk-toggleable__label-arrow:before {color: black;}#sk-container-id-2 div.sk-toggleable__content {max-height: 0;max-width: 0;overflow: hidden;text-align: left;background-color: #f0f8ff;}#sk-container-id-2 div.sk-toggleable__content pre {margin: 0.2em;color: black;border-radius: 0.25em;background-color: #f0f8ff;}#sk-container-id-2 input.sk-toggleable__control:checked~div.sk-toggleable__content {max-height: 200px;max-width: 100%;overflow: auto;}#sk-container-id-2 input.sk-toggleable__control:checked~label.sk-toggleable__label-arrow:before {content: \"▾\";}#sk-container-id-2 div.sk-estimator input.sk-toggleable__control:checked~label.sk-toggleable__label {background-color: #d4ebff;}#sk-container-id-2 div.sk-label input.sk-toggleable__control:checked~label.sk-toggleable__label {background-color: #d4ebff;}#sk-container-id-2 input.sk-hidden--visually {border: 0;clip: rect(1px 1px 1px 1px);clip: rect(1px, 1px, 1px, 1px);height: 1px;margin: -1px;overflow: hidden;padding: 0;position: absolute;width: 1px;}#sk-container-id-2 div.sk-estimator {font-family: monospace;background-color: #f0f8ff;border: 1px dotted black;border-radius: 0.25em;box-sizing: border-box;margin-bottom: 0.5em;}#sk-container-id-2 div.sk-estimator:hover {background-color: #d4ebff;}#sk-container-id-2 div.sk-parallel-item::after {content: \"\";width: 100%;border-bottom: 1px solid gray;flex-grow: 1;}#sk-container-id-2 div.sk-label:hover label.sk-toggleable__label {background-color: #d4ebff;}#sk-container-id-2 div.sk-serial::before {content: \"\";position: absolute;border-left: 1px solid gray;box-sizing: border-box;top: 0;bottom: 0;left: 50%;z-index: 0;}#sk-container-id-2 div.sk-serial {display: flex;flex-direction: column;align-items: center;background-color: white;padding-right: 0.2em;padding-left: 0.2em;position: relative;}#sk-container-id-2 div.sk-item {position: relative;z-index: 1;}#sk-container-id-2 div.sk-parallel {display: flex;align-items: stretch;justify-content: center;background-color: white;position: relative;}#sk-container-id-2 div.sk-item::before, #sk-container-id-2 div.sk-parallel-item::before {content: \"\";position: absolute;border-left: 1px solid gray;box-sizing: border-box;top: 0;bottom: 0;left: 50%;z-index: -1;}#sk-container-id-2 div.sk-parallel-item {display: flex;flex-direction: column;z-index: 1;position: relative;background-color: white;}#sk-container-id-2 div.sk-parallel-item:first-child::after {align-self: flex-end;width: 50%;}#sk-container-id-2 div.sk-parallel-item:last-child::after {align-self: flex-start;width: 50%;}#sk-container-id-2 div.sk-parallel-item:only-child::after {width: 0;}#sk-container-id-2 div.sk-dashed-wrapped {border: 1px dashed gray;margin: 0 0.4em 0.5em 0.4em;box-sizing: border-box;padding-bottom: 0.4em;background-color: white;}#sk-container-id-2 div.sk-label label {font-family: monospace;font-weight: bold;display: inline-block;line-height: 1.2em;}#sk-container-id-2 div.sk-label-container {text-align: center;}#sk-container-id-2 div.sk-container {/* jupyter's `normalize.less` sets `[hidden] { display: none; }` but bootstrap.min.css set `[hidden] { display: none !important; }` so we also need the `!important` here to be able to override the default hidden behavior on the sphinx rendered scikit-learn.org. See: https://github.com/scikit-learn/scikit-learn/issues/21755 */display: inline-block !important;position: relative;}#sk-container-id-2 div.sk-text-repr-fallback {display: none;}</style><div id=\"sk-container-id-2\" class=\"sk-top-container\"><div class=\"sk-text-repr-fallback\"><pre>DecisionTreeClassifier(max_depth=2)</pre><b>In a Jupyter environment, please rerun this cell to show the HTML representation or trust the notebook. <br />On GitHub, the HTML representation is unable to render, please try loading this page with nbviewer.org.</b></div><div class=\"sk-container\" hidden><div class=\"sk-item\"><div class=\"sk-estimator sk-toggleable\"><input class=\"sk-toggleable__control sk-hidden--visually\" id=\"sk-estimator-id-2\" type=\"checkbox\" checked><label for=\"sk-estimator-id-2\" class=\"sk-toggleable__label sk-toggleable__label-arrow\">DecisionTreeClassifier</label><div class=\"sk-toggleable__content\"><pre>DecisionTreeClassifier(max_depth=2)</pre></div></div></div></div></div>"
      ],
      "text/plain": [
       "DecisionTreeClassifier(max_depth=2)"
      ]
     },
     "execution_count": 14,
     "metadata": {},
     "output_type": "execute_result"
    }
   ],
   "source": [
    "cart_model"
   ]
  },
  {
   "cell_type": "code",
   "execution_count": 18,
   "id": "2f82591e",
   "metadata": {},
   "outputs": [
    {
     "name": "stdout",
     "output_type": "stream",
     "text": [
      "((0 if x[0] <= 2.5 else 0) if x[0] <= 6.5 else 1 if x[0] <= 13.5 else 1)\n",
      "\n"
     ]
    }
   ],
   "source": [
    "from skompiler import skompile\n",
    "\n",
    "# modeli kurduk, modeli belirli sisteme entegre etmek istiyoruz.\n",
    "# biliyoruz ki, karar ağaçları belirli kırılımlara göre karar kuralları çıkarıyor.\n",
    "# dolayısıyla değişken değeri geldiğinde bu değişkenin değerini yazıp tahmin sonucu bekliyoruz.\n",
    "print(skompile(cart_model.predict).to(\"python/code\"))\n"
   ]
  },
  {
   "cell_type": "code",
   "execution_count": 23,
   "id": "adc6b9e5",
   "metadata": {},
   "outputs": [],
   "source": [
    "x = [9]"
   ]
  },
  {
   "cell_type": "code",
   "execution_count": 24,
   "id": "148652a3",
   "metadata": {},
   "outputs": [
    {
     "data": {
      "text/plain": [
       "1"
      ]
     },
     "execution_count": 24,
     "metadata": {},
     "output_type": "execute_result"
    }
   ],
   "source": [
    "((0 if x[0] <= 2.5 else 0) if x[0] <= 6.5 else 1 if x[0] <= 13.5 else 1)"
   ]
  },
  {
   "cell_type": "code",
   "execution_count": null,
   "id": "892c3eb1",
   "metadata": {},
   "outputs": [],
   "source": []
  },
  {
   "cell_type": "code",
   "execution_count": 25,
   "id": "ca6ab554",
   "metadata": {},
   "outputs": [],
   "source": [
    "df = diabetes.copy()\n",
    "df = df.dropna()\n",
    "y = df[\"Outcome\"]\n",
    "X = df.drop(['Outcome'], axis=1)\n",
    "X = pd.DataFrame(X)\n",
    "X_train, X_test, y_train, y_test = train_test_split(X, y, \n",
    "                                                    test_size=0.30, \n",
    "                                                    random_state=42)"
   ]
  },
  {
   "cell_type": "code",
   "execution_count": 26,
   "id": "b7c025a5",
   "metadata": {},
   "outputs": [],
   "source": [
    "cart = DecisionTreeClassifier()\n",
    "cart_model = cart.fit(X_train,y_train)"
   ]
  },
  {
   "cell_type": "code",
   "execution_count": 27,
   "id": "1e38b48f",
   "metadata": {
    "scrolled": true
   },
   "outputs": [
    {
     "name": "stdout",
     "output_type": "stream",
     "text": [
      "((((((0 if x[6] <= 0.671999990940094 else 1 if x[6] <= 0.6974999904632568 else\n",
      "    0) if x[5] <= 31.40000057220459 else ((0 if x[3] <= 40.5 else 1) if x[1\n",
      "    ] <= 111.5 else ((1 if x[1] <= 123.0 else 0) if x[5] <= \n",
      "    37.39999961853027 else 0) if x[2] <= 72.0 else 1) if x[4] <= 9.0 else (\n",
      "    0 if x[6] <= 0.6395000219345093 else 1 if x[6] <= 0.6759999990463257 else\n",
      "    0) if x[0] <= 4.5 else 0 if x[6] <= 0.39149999618530273 else 1) if x[5] <=\n",
      "    49.10000038146973 else 1) if x[1] <= 127.5 else 1 if x[2] <= 56.0 else \n",
      "    (0 if x[7] <= 27.5 else 1 if x[6] <= 0.32649999111890793 else 0) if x[5\n",
      "    ] <= 30.300000190734863 else 1 if x[5] <= 32.000000953674316 else ((0 if\n",
      "    x[5] <= 33.75 else 1) if x[0] <= 0.5 else 1 if x[5] <= \n",
      "    32.45000076293945 else 0) if x[2] <= 85.0 else 1) if x[7] <= 28.5 else \n",
      "    (1 if x[7] <= 29.5 else (1 if x[1] <= 130.5 else 0) if x[5] <= \n",
      "    9.649999618530273 else 0 if x[1] <= 133.0 else (1 if x[1] <= 135.5 else\n",
      "    0) if x[2] <= 73.0 else 0) if x[5] <= 26.949999809265137 else (1 if x[1\n",
      "    ] <= 28.5 else 0 if x[0] <= 9.5 else 0 if x[1] <= 80.0 else 1 if x[3] <=\n",
      "    36.0 else 0) if x[1] <= 94.5 else ((((0 if x[6] <= 0.24950000643730164 else\n",
      "    1 if x[1] <= 126.5 else 0) if x[5] <= 28.34999942779541 else 1 if x[2] <=\n",
      "    67.0 else 0 if x[2] <= 69.0 else 1 if x[5] <= 31.600000381469727 else 0 if\n",
      "    x[7] <= 36.5 else (1 if x[2] <= 77.0 else 0) if x[6] <= \n",
      "    0.21000000089406967 else 0 if x[2] <= 71.0 else 1) if x[3] <= 26.5 else\n",
      "    (((0 if x[2] <= 45.0 else 1) if x[6] <= 0.39400000870227814 else 0) if \n",
      "    x[2] <= 67.0 else 0 if x[2] <= 80.0 else 0 if x[4] <= 87.5 else 1) if x\n",
      "    [1] <= 127.5 else (0 if x[5] <= 35.5 else 1) if x[6] <= \n",
      "    0.3110000044107437 else 1) if x[2] <= 83.0 else ((0 if x[3] <= 39.5 else\n",
      "    0 if x[5] <= 33.5 else 1) if x[5] <= 41.19999885559082 else 1) if x[4] <=\n",
      "    124.0 else 0 if x[3] <= 19.5 else 1) if x[6] <= 0.527999997138977 else \n",
      "    ((((0 if x[4] <= 88.0 else 1) if x[5] <= 27.34999942779541 else 1) if x\n",
      "    [1] <= 132.0 else 0) if x[5] <= 29.09999942779541 else 0 if x[2] <= \n",
      "    86.0 else 1) if x[5] <= 31.600000381469727 else ((1 if x[2] <= 87.0 else\n",
      "    0 if x[7] <= 31.5 else 1) if x[3] <= 54.5 else 0) if x[6] <= \n",
      "    1.1489999890327454 else 1 if x[7] <= 36.0 else 0) if x[1] <= 154.5 else\n",
      "    (1 if x[5] <= 25.350000381469727 else (0 if x[7] <= 25.5 else 1) if x[7\n",
      "    ] <= 52.5 else 0) if x[5] <= 28.700000762939453 else (((((1 if x[6] <= \n",
      "    0.2695000022649765 else 0) if x[4] <= 180.0 else 0) if x[4] <= 457.0 else\n",
      "    1) if x[7] <= 30.5 else 1) if x[6] <= 0.3044999986886978 else (1 if x[1\n",
      "    ] <= 164.5 else 0) if x[1] <= 165.5 else 1) if x[6] <= \n",
      "    1.4275000095367432 else 1 if x[0] <= 3.5 else 0)\n",
      "\n"
     ]
    }
   ],
   "source": [
    "print(skompile(cart_model.predict).to(\"python/code\"))\n"
   ]
  },
  {
   "cell_type": "code",
   "execution_count": 28,
   "id": "190a12e3",
   "metadata": {},
   "outputs": [
    {
     "data": {
      "text/plain": [
       "0.7186147186147186"
      ]
     },
     "execution_count": 28,
     "metadata": {},
     "output_type": "execute_result"
    }
   ],
   "source": [
    "y_pred = cart_model.predict(X_test)\n",
    "accuracy_score(y_test,y_pred)"
   ]
  },
  {
   "cell_type": "code",
   "execution_count": null,
   "id": "0f45d620",
   "metadata": {},
   "outputs": [],
   "source": []
  },
  {
   "cell_type": "markdown",
   "id": "336d8d8d",
   "metadata": {},
   "source": [
    "#### Model Tuning"
   ]
  },
  {
   "cell_type": "code",
   "execution_count": 29,
   "id": "5d60a615",
   "metadata": {},
   "outputs": [],
   "source": [
    "?cart_model"
   ]
  },
  {
   "cell_type": "code",
   "execution_count": 30,
   "id": "3039164e",
   "metadata": {},
   "outputs": [],
   "source": [
    "cart_grid = {\"max_depth\": range(1,10),\n",
    "            \"min_samples_split\" : list(range(2,50)) }"
   ]
  },
  {
   "cell_type": "code",
   "execution_count": 31,
   "id": "5216879b",
   "metadata": {},
   "outputs": [
    {
     "name": "stdout",
     "output_type": "stream",
     "text": [
      "Fitting 10 folds for each of 432 candidates, totalling 4320 fits\n"
     ]
    }
   ],
   "source": [
    "cart = tree.DecisionTreeClassifier()\n",
    "cart_cv = GridSearchCV(cart, cart_grid, cv = 10, n_jobs = -1, verbose = 2)\n",
    "cart_cv_model = cart_cv.fit(X_train, y_train)"
   ]
  },
  {
   "cell_type": "code",
   "execution_count": 32,
   "id": "8fd7b9cb",
   "metadata": {},
   "outputs": [
    {
     "name": "stdout",
     "output_type": "stream",
     "text": [
      "En iyi parametreler: {'max_depth': 5, 'min_samples_split': 19}\n"
     ]
    }
   ],
   "source": [
    "print(\"En iyi parametreler: \" + str(cart_cv_model.best_params_))"
   ]
  },
  {
   "cell_type": "markdown",
   "id": "7e14fcf6",
   "metadata": {},
   "source": [
    "### final"
   ]
  },
  {
   "cell_type": "code",
   "execution_count": 33,
   "id": "dbcfa61e",
   "metadata": {},
   "outputs": [],
   "source": [
    "cart = tree.DecisionTreeClassifier(max_depth=5, min_samples_split=19)\n",
    "cart_tuned = cart.fit(X_train,y_train)"
   ]
  },
  {
   "cell_type": "code",
   "execution_count": null,
   "id": "bcaa5c31",
   "metadata": {},
   "outputs": [],
   "source": []
  }
 ],
 "metadata": {
  "kernelspec": {
   "display_name": "Python 3 (ipykernel)",
   "language": "python",
   "name": "python3"
  },
  "language_info": {
   "codemirror_mode": {
    "name": "ipython",
    "version": 3
   },
   "file_extension": ".py",
   "mimetype": "text/x-python",
   "name": "python",
   "nbconvert_exporter": "python",
   "pygments_lexer": "ipython3",
   "version": "3.9.7"
  }
 },
 "nbformat": 4,
 "nbformat_minor": 5
}
